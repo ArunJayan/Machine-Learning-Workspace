{
 "cells": [
  {
   "cell_type": "markdown",
   "metadata": {},
   "source": [
    "#                                   Chapter\n",
    "\n",
    "### Exporing Iris Data Set"
   ]
  },
  {
   "cell_type": "code",
   "execution_count": 3,
   "metadata": {
    "collapsed": true
   },
   "outputs": [],
   "source": [
    "from sklearn.datasets import load_iris\n",
    "from sklearn.model_selection import train_test_split\n",
    "#Load iris data set\n",
    "iris_dataset = load_iris()"
   ]
  },
  {
   "cell_type": "code",
   "execution_count": 6,
   "metadata": {},
   "outputs": [
    {
     "name": "stdout",
     "output_type": "stream",
     "text": [
      "Keys :  ['target_names', 'data', 'target', 'DESCR', 'feature_names']\n"
     ]
    }
   ],
   "source": [
    "#Then we print keys of iris dataset \n",
    "print \"Keys : \",iris_dataset.keys()"
   ]
  },
  {
   "cell_type": "code",
   "execution_count": 7,
   "metadata": {},
   "outputs": [
    {
     "name": "stdout",
     "output_type": "stream",
     "text": [
      "Target Names : ['setosa' 'versicolor' 'virginica']\n"
     ]
    }
   ],
   "source": [
    "#then print the target names\n",
    "print \"Target Names :\",iris_dataset[\"target_names\"]"
   ]
  },
  {
   "cell_type": "code",
   "execution_count": 8,
   "metadata": {},
   "outputs": [
    {
     "name": "stdout",
     "output_type": "stream",
     "text": [
      "Feature names ['sepal length (cm)', 'sepal width (cm)', 'petal length (cm)', 'petal width (cm)']\n"
     ]
    }
   ],
   "source": [
    "#print the feature_names \n",
    "print \"Feature names\",iris_dataset[\"feature_names\"]"
   ]
  },
  {
   "cell_type": "code",
   "execution_count": 9,
   "metadata": {},
   "outputs": [
    {
     "name": "stdout",
     "output_type": "stream",
     "text": [
      "target [0 0 0 0 0 0 0 0 0 0 0 0 0 0 0 0 0 0 0 0 0 0 0 0 0 0 0 0 0 0 0 0 0 0 0 0 0\n",
      " 0 0 0 0 0 0 0 0 0 0 0 0 0 1 1 1 1 1 1 1 1 1 1 1 1 1 1 1 1 1 1 1 1 1 1 1 1\n",
      " 1 1 1 1 1 1 1 1 1 1 1 1 1 1 1 1 1 1 1 1 1 1 1 1 1 1 2 2 2 2 2 2 2 2 2 2 2\n",
      " 2 2 2 2 2 2 2 2 2 2 2 2 2 2 2 2 2 2 2 2 2 2 2 2 2 2 2 2 2 2 2 2 2 2 2 2 2\n",
      " 2 2]\n"
     ]
    }
   ],
   "source": [
    "#Print the target corresponding to each data\n",
    "print \"target\",iris_dataset[\"target\"]"
   ]
  },
  {
   "cell_type": "code",
   "execution_count": 14,
   "metadata": {},
   "outputs": [
    {
     "name": "stdout",
     "output_type": "stream",
     "text": [
      "type: <type 'numpy.ndarray'>\n",
      "shape : (150, 4)\n"
     ]
    }
   ],
   "source": [
    "#print type and shape of the data \n",
    "print \"type:\",type(iris_dataset[\"data\"])\n",
    "print \"shape :\",iris_dataset[\"data\"].shape\n"
   ]
  },
  {
   "cell_type": "code",
   "execution_count": 5,
   "metadata": {},
   "outputs": [
    {
     "name": "stdout",
     "output_type": "stream",
     "text": [
      "Data  0 : [ 5.1  3.5  1.4  0.2]\n",
      "Data  1 : [ 4.9  3.   1.4  0.2]\n",
      "Data  2 : [ 4.7  3.2  1.3  0.2]\n",
      "Data  3 : [ 4.6  3.1  1.5  0.2]\n",
      "Data  4 : [ 5.   3.6  1.4  0.2]\n",
      "Data  5 : [ 5.4  3.9  1.7  0.4]\n",
      "Data  6 : [ 4.6  3.4  1.4  0.3]\n",
      "Data  7 : [ 5.   3.4  1.5  0.2]\n",
      "Data  8 : [ 4.4  2.9  1.4  0.2]\n",
      "Data  9 : [ 4.9  3.1  1.5  0.1]\n",
      "Data  10 : [ 5.4  3.7  1.5  0.2]\n",
      "Data  11 : [ 4.8  3.4  1.6  0.2]\n",
      "Data  12 : [ 4.8  3.   1.4  0.1]\n",
      "Data  13 : [ 4.3  3.   1.1  0.1]\n",
      "Data  14 : [ 5.8  4.   1.2  0.2]\n",
      "Data  15 : [ 5.7  4.4  1.5  0.4]\n",
      "Data  16 : [ 5.4  3.9  1.3  0.4]\n",
      "Data  17 : [ 5.1  3.5  1.4  0.3]\n",
      "Data  18 : [ 5.7  3.8  1.7  0.3]\n",
      "Data  19 : [ 5.1  3.8  1.5  0.3]\n",
      "Data  20 : [ 5.4  3.4  1.7  0.2]\n",
      "Data  21 : [ 5.1  3.7  1.5  0.4]\n",
      "Data  22 : [ 4.6  3.6  1.   0.2]\n",
      "Data  23 : [ 5.1  3.3  1.7  0.5]\n",
      "Data  24 : [ 4.8  3.4  1.9  0.2]\n",
      "Data  25 : [ 5.   3.   1.6  0.2]\n",
      "Data  26 : [ 5.   3.4  1.6  0.4]\n",
      "Data  27 : [ 5.2  3.5  1.5  0.2]\n",
      "Data  28 : [ 5.2  3.4  1.4  0.2]\n",
      "Data  29 : [ 4.7  3.2  1.6  0.2]\n",
      "Data  30 : [ 4.8  3.1  1.6  0.2]\n",
      "Data  31 : [ 5.4  3.4  1.5  0.4]\n",
      "Data  32 : [ 5.2  4.1  1.5  0.1]\n",
      "Data  33 : [ 5.5  4.2  1.4  0.2]\n",
      "Data  34 : [ 4.9  3.1  1.5  0.1]\n",
      "Data  35 : [ 5.   3.2  1.2  0.2]\n",
      "Data  36 : [ 5.5  3.5  1.3  0.2]\n",
      "Data  37 : [ 4.9  3.1  1.5  0.1]\n",
      "Data  38 : [ 4.4  3.   1.3  0.2]\n",
      "Data  39 : [ 5.1  3.4  1.5  0.2]\n",
      "Data  40 : [ 5.   3.5  1.3  0.3]\n",
      "Data  41 : [ 4.5  2.3  1.3  0.3]\n",
      "Data  42 : [ 4.4  3.2  1.3  0.2]\n",
      "Data  43 : [ 5.   3.5  1.6  0.6]\n",
      "Data  44 : [ 5.1  3.8  1.9  0.4]\n",
      "Data  45 : [ 4.8  3.   1.4  0.3]\n",
      "Data  46 : [ 5.1  3.8  1.6  0.2]\n",
      "Data  47 : [ 4.6  3.2  1.4  0.2]\n",
      "Data  48 : [ 5.3  3.7  1.5  0.2]\n",
      "Data  49 : [ 5.   3.3  1.4  0.2]\n",
      "Data  50 : [ 7.   3.2  4.7  1.4]\n",
      "Data  51 : [ 6.4  3.2  4.5  1.5]\n",
      "Data  52 : [ 6.9  3.1  4.9  1.5]\n",
      "Data  53 : [ 5.5  2.3  4.   1.3]\n",
      "Data  54 : [ 6.5  2.8  4.6  1.5]\n",
      "Data  55 : [ 5.7  2.8  4.5  1.3]\n",
      "Data  56 : [ 6.3  3.3  4.7  1.6]\n",
      "Data  57 : [ 4.9  2.4  3.3  1. ]\n",
      "Data  58 : [ 6.6  2.9  4.6  1.3]\n",
      "Data  59 : [ 5.2  2.7  3.9  1.4]\n",
      "Data  60 : [ 5.   2.   3.5  1. ]\n",
      "Data  61 : [ 5.9  3.   4.2  1.5]\n",
      "Data  62 : [ 6.   2.2  4.   1. ]\n",
      "Data  63 : [ 6.1  2.9  4.7  1.4]\n",
      "Data  64 : [ 5.6  2.9  3.6  1.3]\n",
      "Data  65 : [ 6.7  3.1  4.4  1.4]\n",
      "Data  66 : [ 5.6  3.   4.5  1.5]\n",
      "Data  67 : [ 5.8  2.7  4.1  1. ]\n",
      "Data  68 : [ 6.2  2.2  4.5  1.5]\n",
      "Data  69 : [ 5.6  2.5  3.9  1.1]\n",
      "Data  70 : [ 5.9  3.2  4.8  1.8]\n",
      "Data  71 : [ 6.1  2.8  4.   1.3]\n",
      "Data  72 : [ 6.3  2.5  4.9  1.5]\n",
      "Data  73 : [ 6.1  2.8  4.7  1.2]\n",
      "Data  74 : [ 6.4  2.9  4.3  1.3]\n",
      "Data  75 : [ 6.6  3.   4.4  1.4]\n",
      "Data  76 : [ 6.8  2.8  4.8  1.4]\n",
      "Data  77 : [ 6.7  3.   5.   1.7]\n",
      "Data  78 : [ 6.   2.9  4.5  1.5]\n",
      "Data  79 : [ 5.7  2.6  3.5  1. ]\n",
      "Data  80 : [ 5.5  2.4  3.8  1.1]\n",
      "Data  81 : [ 5.5  2.4  3.7  1. ]\n",
      "Data  82 : [ 5.8  2.7  3.9  1.2]\n",
      "Data  83 : [ 6.   2.7  5.1  1.6]\n",
      "Data  84 : [ 5.4  3.   4.5  1.5]\n",
      "Data  85 : [ 6.   3.4  4.5  1.6]\n",
      "Data  86 : [ 6.7  3.1  4.7  1.5]\n",
      "Data  87 : [ 6.3  2.3  4.4  1.3]\n",
      "Data  88 : [ 5.6  3.   4.1  1.3]\n",
      "Data  89 : [ 5.5  2.5  4.   1.3]\n",
      "Data  90 : [ 5.5  2.6  4.4  1.2]\n",
      "Data  91 : [ 6.1  3.   4.6  1.4]\n",
      "Data  92 : [ 5.8  2.6  4.   1.2]\n",
      "Data  93 : [ 5.   2.3  3.3  1. ]\n",
      "Data  94 : [ 5.6  2.7  4.2  1.3]\n",
      "Data  95 : [ 5.7  3.   4.2  1.2]\n",
      "Data  96 : [ 5.7  2.9  4.2  1.3]\n",
      "Data  97 : [ 6.2  2.9  4.3  1.3]\n",
      "Data  98 : [ 5.1  2.5  3.   1.1]\n",
      "Data  99 : [ 5.7  2.8  4.1  1.3]\n",
      "Data  100 : [ 6.3  3.3  6.   2.5]\n",
      "Data  101 : [ 5.8  2.7  5.1  1.9]\n",
      "Data  102 : [ 7.1  3.   5.9  2.1]\n",
      "Data  103 : [ 6.3  2.9  5.6  1.8]\n",
      "Data  104 : [ 6.5  3.   5.8  2.2]\n",
      "Data  105 : [ 7.6  3.   6.6  2.1]\n",
      "Data  106 : [ 4.9  2.5  4.5  1.7]\n",
      "Data  107 : [ 7.3  2.9  6.3  1.8]\n",
      "Data  108 : [ 6.7  2.5  5.8  1.8]\n",
      "Data  109 : [ 7.2  3.6  6.1  2.5]\n",
      "Data  110 : [ 6.5  3.2  5.1  2. ]\n",
      "Data  111 : [ 6.4  2.7  5.3  1.9]\n",
      "Data  112 : [ 6.8  3.   5.5  2.1]\n",
      "Data  113 : [ 5.7  2.5  5.   2. ]\n",
      "Data  114 : [ 5.8  2.8  5.1  2.4]\n",
      "Data  115 : [ 6.4  3.2  5.3  2.3]\n",
      "Data  116 : [ 6.5  3.   5.5  1.8]\n",
      "Data  117 : [ 7.7  3.8  6.7  2.2]\n",
      "Data  118 : [ 7.7  2.6  6.9  2.3]\n",
      "Data  119 : [ 6.   2.2  5.   1.5]\n",
      "Data  120 : [ 6.9  3.2  5.7  2.3]\n",
      "Data  121 : [ 5.6  2.8  4.9  2. ]\n",
      "Data  122 : [ 7.7  2.8  6.7  2. ]\n",
      "Data  123 : [ 6.3  2.7  4.9  1.8]\n",
      "Data  124 : [ 6.7  3.3  5.7  2.1]\n",
      "Data  125 : [ 7.2  3.2  6.   1.8]\n",
      "Data  126 : [ 6.2  2.8  4.8  1.8]\n",
      "Data  127 : [ 6.1  3.   4.9  1.8]\n",
      "Data  128 : [ 6.4  2.8  5.6  2.1]\n",
      "Data  129 : [ 7.2  3.   5.8  1.6]\n",
      "Data  130 : [ 7.4  2.8  6.1  1.9]\n",
      "Data  131 : [ 7.9  3.8  6.4  2. ]\n",
      "Data  132 : [ 6.4  2.8  5.6  2.2]\n",
      "Data  133 : [ 6.3  2.8  5.1  1.5]\n",
      "Data  134 : [ 6.1  2.6  5.6  1.4]\n",
      "Data  135 : [ 7.7  3.   6.1  2.3]\n",
      "Data  136 : [ 6.3  3.4  5.6  2.4]\n",
      "Data  137 : [ 6.4  3.1  5.5  1.8]\n",
      "Data  138 : [ 6.   3.   4.8  1.8]\n",
      "Data  139 : [ 6.9  3.1  5.4  2.1]\n",
      "Data  140 : [ 6.7  3.1  5.6  2.4]\n",
      "Data  141 : [ 6.9  3.1  5.1  2.3]\n",
      "Data  142 : [ 5.8  2.7  5.1  1.9]\n",
      "Data  143 : [ 6.8  3.2  5.9  2.3]\n",
      "Data  144 : [ 6.7  3.3  5.7  2.5]\n",
      "Data  145 : [ 6.7  3.   5.2  2.3]\n",
      "Data  146 : [ 6.3  2.5  5.   1.9]\n",
      "Data  147 : [ 6.5  3.   5.2  2. ]\n",
      "Data  148 : [ 6.2  3.4  5.4  2.3]\n",
      "Data  149 : [ 5.9  3.   5.1  1.8]\n"
     ]
    }
   ],
   "source": [
    "#printing each data , ie. four measurement of iris flower\n",
    "for i in range(len(iris_dataset[\"data\"])):\n",
    "    print \"Data \",i,\":\",iris_dataset[\"data\"][i]"
   ]
  },
  {
   "cell_type": "code",
   "execution_count": 21,
   "metadata": {},
   "outputs": [
    {
     "name": "stdout",
     "output_type": "stream",
     "text": [
      "data : [ 5.1  3.5  1.4  0.2] ---> setosa\n",
      "data : [ 4.9  3.   1.4  0.2] ---> setosa\n",
      "data : [ 4.7  3.2  1.3  0.2] ---> setosa\n",
      "data : [ 4.6  3.1  1.5  0.2] ---> setosa\n",
      "data : [ 5.   3.6  1.4  0.2] ---> setosa\n",
      "data : [ 5.4  3.9  1.7  0.4] ---> setosa\n",
      "data : [ 4.6  3.4  1.4  0.3] ---> setosa\n",
      "data : [ 5.   3.4  1.5  0.2] ---> setosa\n",
      "data : [ 4.4  2.9  1.4  0.2] ---> setosa\n",
      "data : [ 4.9  3.1  1.5  0.1] ---> setosa\n",
      "data : [ 5.4  3.7  1.5  0.2] ---> setosa\n",
      "data : [ 4.8  3.4  1.6  0.2] ---> setosa\n",
      "data : [ 4.8  3.   1.4  0.1] ---> setosa\n",
      "data : [ 4.3  3.   1.1  0.1] ---> setosa\n",
      "data : [ 5.8  4.   1.2  0.2] ---> setosa\n",
      "data : [ 5.7  4.4  1.5  0.4] ---> setosa\n",
      "data : [ 5.4  3.9  1.3  0.4] ---> setosa\n",
      "data : [ 5.1  3.5  1.4  0.3] ---> setosa\n",
      "data : [ 5.7  3.8  1.7  0.3] ---> setosa\n",
      "data : [ 5.1  3.8  1.5  0.3] ---> setosa\n",
      "data : [ 5.4  3.4  1.7  0.2] ---> setosa\n",
      "data : [ 5.1  3.7  1.5  0.4] ---> setosa\n",
      "data : [ 4.6  3.6  1.   0.2] ---> setosa\n",
      "data : [ 5.1  3.3  1.7  0.5] ---> setosa\n",
      "data : [ 4.8  3.4  1.9  0.2] ---> setosa\n",
      "data : [ 5.   3.   1.6  0.2] ---> setosa\n",
      "data : [ 5.   3.4  1.6  0.4] ---> setosa\n",
      "data : [ 5.2  3.5  1.5  0.2] ---> setosa\n",
      "data : [ 5.2  3.4  1.4  0.2] ---> setosa\n",
      "data : [ 4.7  3.2  1.6  0.2] ---> setosa\n",
      "data : [ 4.8  3.1  1.6  0.2] ---> setosa\n",
      "data : [ 5.4  3.4  1.5  0.4] ---> setosa\n",
      "data : [ 5.2  4.1  1.5  0.1] ---> setosa\n",
      "data : [ 5.5  4.2  1.4  0.2] ---> setosa\n",
      "data : [ 4.9  3.1  1.5  0.1] ---> setosa\n",
      "data : [ 5.   3.2  1.2  0.2] ---> setosa\n",
      "data : [ 5.5  3.5  1.3  0.2] ---> setosa\n",
      "data : [ 4.9  3.1  1.5  0.1] ---> setosa\n",
      "data : [ 4.4  3.   1.3  0.2] ---> setosa\n",
      "data : [ 5.1  3.4  1.5  0.2] ---> setosa\n",
      "data : [ 5.   3.5  1.3  0.3] ---> setosa\n",
      "data : [ 4.5  2.3  1.3  0.3] ---> setosa\n",
      "data : [ 4.4  3.2  1.3  0.2] ---> setosa\n",
      "data : [ 5.   3.5  1.6  0.6] ---> setosa\n",
      "data : [ 5.1  3.8  1.9  0.4] ---> setosa\n",
      "data : [ 4.8  3.   1.4  0.3] ---> setosa\n",
      "data : [ 5.1  3.8  1.6  0.2] ---> setosa\n",
      "data : [ 4.6  3.2  1.4  0.2] ---> setosa\n",
      "data : [ 5.3  3.7  1.5  0.2] ---> setosa\n",
      "data : [ 5.   3.3  1.4  0.2] ---> setosa\n",
      "data : [ 7.   3.2  4.7  1.4] ---> versicolor\n",
      "data : [ 6.4  3.2  4.5  1.5] ---> versicolor\n",
      "data : [ 6.9  3.1  4.9  1.5] ---> versicolor\n",
      "data : [ 5.5  2.3  4.   1.3] ---> versicolor\n",
      "data : [ 6.5  2.8  4.6  1.5] ---> versicolor\n",
      "data : [ 5.7  2.8  4.5  1.3] ---> versicolor\n",
      "data : [ 6.3  3.3  4.7  1.6] ---> versicolor\n",
      "data : [ 4.9  2.4  3.3  1. ] ---> versicolor\n",
      "data : [ 6.6  2.9  4.6  1.3] ---> versicolor\n",
      "data : [ 5.2  2.7  3.9  1.4] ---> versicolor\n",
      "data : [ 5.   2.   3.5  1. ] ---> versicolor\n",
      "data : [ 5.9  3.   4.2  1.5] ---> versicolor\n",
      "data : [ 6.   2.2  4.   1. ] ---> versicolor\n",
      "data : [ 6.1  2.9  4.7  1.4] ---> versicolor\n",
      "data : [ 5.6  2.9  3.6  1.3] ---> versicolor\n",
      "data : [ 6.7  3.1  4.4  1.4] ---> versicolor\n",
      "data : [ 5.6  3.   4.5  1.5] ---> versicolor\n",
      "data : [ 5.8  2.7  4.1  1. ] ---> versicolor\n",
      "data : [ 6.2  2.2  4.5  1.5] ---> versicolor\n",
      "data : [ 5.6  2.5  3.9  1.1] ---> versicolor\n",
      "data : [ 5.9  3.2  4.8  1.8] ---> versicolor\n",
      "data : [ 6.1  2.8  4.   1.3] ---> versicolor\n",
      "data : [ 6.3  2.5  4.9  1.5] ---> versicolor\n",
      "data : [ 6.1  2.8  4.7  1.2] ---> versicolor\n",
      "data : [ 6.4  2.9  4.3  1.3] ---> versicolor\n",
      "data : [ 6.6  3.   4.4  1.4] ---> versicolor\n",
      "data : [ 6.8  2.8  4.8  1.4] ---> versicolor\n",
      "data : [ 6.7  3.   5.   1.7] ---> versicolor\n",
      "data : [ 6.   2.9  4.5  1.5] ---> versicolor\n",
      "data : [ 5.7  2.6  3.5  1. ] ---> versicolor\n",
      "data : [ 5.5  2.4  3.8  1.1] ---> versicolor\n",
      "data : [ 5.5  2.4  3.7  1. ] ---> versicolor\n",
      "data : [ 5.8  2.7  3.9  1.2] ---> versicolor\n",
      "data : [ 6.   2.7  5.1  1.6] ---> versicolor\n",
      "data : [ 5.4  3.   4.5  1.5] ---> versicolor\n",
      "data : [ 6.   3.4  4.5  1.6] ---> versicolor\n",
      "data : [ 6.7  3.1  4.7  1.5] ---> versicolor\n",
      "data : [ 6.3  2.3  4.4  1.3] ---> versicolor\n",
      "data : [ 5.6  3.   4.1  1.3] ---> versicolor\n",
      "data : [ 5.5  2.5  4.   1.3] ---> versicolor\n",
      "data : [ 5.5  2.6  4.4  1.2] ---> versicolor\n",
      "data : [ 6.1  3.   4.6  1.4] ---> versicolor\n",
      "data : [ 5.8  2.6  4.   1.2] ---> versicolor\n",
      "data : [ 5.   2.3  3.3  1. ] ---> versicolor\n",
      "data : [ 5.6  2.7  4.2  1.3] ---> versicolor\n",
      "data : [ 5.7  3.   4.2  1.2] ---> versicolor\n",
      "data : [ 5.7  2.9  4.2  1.3] ---> versicolor\n",
      "data : [ 6.2  2.9  4.3  1.3] ---> versicolor\n",
      "data : [ 5.1  2.5  3.   1.1] ---> versicolor\n",
      "data : [ 5.7  2.8  4.1  1.3] ---> versicolor\n",
      "data : [ 6.3  3.3  6.   2.5] ---> virginica\n",
      "data : [ 5.8  2.7  5.1  1.9] ---> virginica\n",
      "data : [ 7.1  3.   5.9  2.1] ---> virginica\n",
      "data : [ 6.3  2.9  5.6  1.8] ---> virginica\n",
      "data : [ 6.5  3.   5.8  2.2] ---> virginica\n",
      "data : [ 7.6  3.   6.6  2.1] ---> virginica\n",
      "data : [ 4.9  2.5  4.5  1.7] ---> virginica\n",
      "data : [ 7.3  2.9  6.3  1.8] ---> virginica\n",
      "data : [ 6.7  2.5  5.8  1.8] ---> virginica\n",
      "data : [ 7.2  3.6  6.1  2.5] ---> virginica\n",
      "data : [ 6.5  3.2  5.1  2. ] ---> virginica\n",
      "data : [ 6.4  2.7  5.3  1.9] ---> virginica\n",
      "data : [ 6.8  3.   5.5  2.1] ---> virginica\n",
      "data : [ 5.7  2.5  5.   2. ] ---> virginica\n",
      "data : [ 5.8  2.8  5.1  2.4] ---> virginica\n",
      "data : [ 6.4  3.2  5.3  2.3] ---> virginica\n",
      "data : [ 6.5  3.   5.5  1.8] ---> virginica\n",
      "data : [ 7.7  3.8  6.7  2.2] ---> virginica\n",
      "data : [ 7.7  2.6  6.9  2.3] ---> virginica\n",
      "data : [ 6.   2.2  5.   1.5] ---> virginica\n",
      "data : [ 6.9  3.2  5.7  2.3] ---> virginica\n",
      "data : [ 5.6  2.8  4.9  2. ] ---> virginica\n",
      "data : [ 7.7  2.8  6.7  2. ] ---> virginica\n",
      "data : [ 6.3  2.7  4.9  1.8] ---> virginica\n",
      "data : [ 6.7  3.3  5.7  2.1] ---> virginica\n",
      "data : [ 7.2  3.2  6.   1.8] ---> virginica\n",
      "data : [ 6.2  2.8  4.8  1.8] ---> virginica\n",
      "data : [ 6.1  3.   4.9  1.8] ---> virginica\n",
      "data : [ 6.4  2.8  5.6  2.1] ---> virginica\n",
      "data : [ 7.2  3.   5.8  1.6] ---> virginica\n",
      "data : [ 7.4  2.8  6.1  1.9] ---> virginica\n",
      "data : [ 7.9  3.8  6.4  2. ] ---> virginica\n",
      "data : [ 6.4  2.8  5.6  2.2] ---> virginica\n",
      "data : [ 6.3  2.8  5.1  1.5] ---> virginica\n",
      "data : [ 6.1  2.6  5.6  1.4] ---> virginica\n",
      "data : [ 7.7  3.   6.1  2.3] ---> virginica\n",
      "data : [ 6.3  3.4  5.6  2.4] ---> virginica\n",
      "data : [ 6.4  3.1  5.5  1.8] ---> virginica\n",
      "data : [ 6.   3.   4.8  1.8] ---> virginica\n",
      "data : [ 6.9  3.1  5.4  2.1] ---> virginica\n",
      "data : [ 6.7  3.1  5.6  2.4] ---> virginica\n",
      "data : [ 6.9  3.1  5.1  2.3] ---> virginica\n",
      "data : [ 5.8  2.7  5.1  1.9] ---> virginica\n",
      "data : [ 6.8  3.2  5.9  2.3] ---> virginica\n",
      "data : [ 6.7  3.3  5.7  2.5] ---> virginica\n",
      "data : [ 6.7  3.   5.2  2.3] ---> virginica\n",
      "data : [ 6.3  2.5  5.   1.9] ---> virginica\n",
      "data : [ 6.5  3.   5.2  2. ] ---> virginica\n",
      "data : [ 6.2  3.4  5.4  2.3] ---> virginica\n",
      "data : [ 5.9  3.   5.1  1.8] ---> virginica\n"
     ]
    }
   ],
   "source": [
    "#then print target for each data \n",
    "for i in range(len(iris_dataset[\"data\"])):\n",
    "    print \"data :\",iris_dataset[\"data\"][i],\"--->\",iris_dataset[\"target_names\"][iris_dataset[\"target\"][i]]"
   ]
  },
  {
   "cell_type": "code",
   "execution_count": 32,
   "metadata": {
    "collapsed": true
   },
   "outputs": [],
   "source": [
    "from sklearn.model_selection import train_test_split\n",
    "#Here we are splitting the data set to 2 category \n",
    "# 1 . for training purpose \n",
    "# 2 . another for testing the trained model\n",
    "train_data,test_data,train_target,test_target, = train_test_split(iris_dataset['data'],iris_dataset['target'],random_state=0)"
   ]
  },
  {
   "cell_type": "code",
   "execution_count": 33,
   "metadata": {},
   "outputs": [
    {
     "name": "stdout",
     "output_type": "stream",
     "text": [
      "112\n"
     ]
    }
   ],
   "source": [
    "print len(train_data)"
   ]
  },
  {
   "cell_type": "code",
   "execution_count": 34,
   "metadata": {},
   "outputs": [
    {
     "name": "stdout",
     "output_type": "stream",
     "text": [
      "112\n"
     ]
    }
   ],
   "source": [
    "print len(train_target)"
   ]
  },
  {
   "cell_type": "code",
   "execution_count": 35,
   "metadata": {},
   "outputs": [
    {
     "name": "stdout",
     "output_type": "stream",
     "text": [
      "38\n"
     ]
    }
   ],
   "source": [
    "print len(test_data)"
   ]
  },
  {
   "cell_type": "code",
   "execution_count": 36,
   "metadata": {},
   "outputs": [
    {
     "name": "stdout",
     "output_type": "stream",
     "text": [
      "38\n"
     ]
    }
   ],
   "source": [
    "print len(test_target)"
   ]
  },
  {
   "cell_type": "code",
   "execution_count": 37,
   "metadata": {
    "collapsed": true
   },
   "outputs": [],
   "source": []
  },
  {
   "cell_type": "code",
   "execution_count": null,
   "metadata": {
    "collapsed": true
   },
   "outputs": [],
   "source": []
  }
 ],
 "metadata": {
  "kernelspec": {
   "display_name": "Python 2",
   "language": "python",
   "name": "python2"
  },
  "language_info": {
   "codemirror_mode": {
    "name": "ipython",
    "version": 2
   },
   "file_extension": ".py",
   "mimetype": "text/x-python",
   "name": "python",
   "nbconvert_exporter": "python",
   "pygments_lexer": "ipython2",
   "version": "2.7.12"
  }
 },
 "nbformat": 4,
 "nbformat_minor": 2
}
